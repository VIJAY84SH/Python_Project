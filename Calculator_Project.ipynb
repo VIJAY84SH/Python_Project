{
 "cells": [
  {
   "cell_type": "code",
   "execution_count": 17,
   "id": "d4b61ff1",
   "metadata": {},
   "outputs": [
    {
     "name": "stdout",
     "output_type": "stream",
     "text": [
      "Please select operation : \n",
      " 1. Add \n",
      " 2. subtract \n",
      " 3. Multiply \n",
      " 4. Division\n",
      "select operation from 1,2,3,4 :4\n",
      "select first number : 9\n",
      "select second number : 3\n",
      "9 / 3 = 3.0\n"
     ]
    }
   ],
   "source": [
    "def add(num1,num2):                # Function to add two numbers\n",
    "    return num1 + num2\n",
    "\n",
    "def subtract(num1, num2):          # Function to subtract two numbers \n",
    "    return num1-num2\n",
    "\n",
    "def multiply(num1, num2):   # Function to multiply two numbers\n",
    "    return num1*num2\n",
    "\n",
    "def division(num1, num2):         # Function to divide two numbers\n",
    "    return num1/num2\n",
    "\n",
    "\n",
    "print(\"Please select operation : \\n 1. Add \\n 2. subtract \\n 3. Multiply \\n 4. Division\")\n",
    "\n",
    "select = int(input(\"select operation from 1,2,3,4 :\"))\n",
    "\n",
    "a = int(input(\"select first number : \"))\n",
    "b = int(input(\"select second number : \"))\n",
    "\n",
    "if select == 1:\n",
    "    print(a, \"+\", b, \"=\",add(a,b))\n",
    "    \n",
    "elif select == 2:\n",
    "    print(a, \"-\", b, \"=\",subtract(a,b))\n",
    "\n",
    "elif select == 3:\n",
    "    print(a, \"*\", b, \"=\",multiply(a,b))\n",
    "    \n",
    "elif select == 4:\n",
    "    print(a, \"/\", b, \"=\",division(a,b)) \n",
    "    \n",
    "else:\n",
    "    print(\"Invalid Input selected\")\n",
    "    \n",
    "\n",
    "    "
   ]
  },
  {
   "cell_type": "code",
   "execution_count": null,
   "id": "9b28a5c9",
   "metadata": {},
   "outputs": [],
   "source": []
  }
 ],
 "metadata": {
  "kernelspec": {
   "display_name": "Python 3 (ipykernel)",
   "language": "python",
   "name": "python3"
  },
  "language_info": {
   "codemirror_mode": {
    "name": "ipython",
    "version": 3
   },
   "file_extension": ".py",
   "mimetype": "text/x-python",
   "name": "python",
   "nbconvert_exporter": "python",
   "pygments_lexer": "ipython3",
   "version": "3.9.13"
  }
 },
 "nbformat": 4,
 "nbformat_minor": 5
}
